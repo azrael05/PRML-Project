{
 "cells": [
  {
   "cell_type": "code",
   "execution_count": 2,
   "metadata": {},
   "outputs": [],
   "source": [
    "import numpy as np\n",
    "import os\n",
    "import re\n",
    "from sklearn.mixture import GaussianMixture\n",
    "from sklearn.metrics import accuracy_score\n",
    "import opensmile"
   ]
  },
  {
   "cell_type": "code",
   "execution_count": 3,
   "metadata": {},
   "outputs": [],
   "source": [
    "## Variables Defined\n",
    "path=r\"D:\\PRML\"\n",
    "max_count=4000  ## No. of examples to use for training\n",
    "\n",
    "train_path=os.path.join(path,\"train\",\"train\")\n",
    "test_path=os.path.join(path,\"test\",\"test\")"
   ]
  },
  {
   "cell_type": "code",
   "execution_count": 4,
   "metadata": {},
   "outputs": [],
   "source": [
    "smile = opensmile.Smile(\n",
    "    feature_set=opensmile.FeatureSet.eGeMAPSv02,   ## Geneva Minimalistic Acoustic Parameter Set\n",
    "    feature_level=opensmile.FeatureLevel.Functionals,\n",
    ")"
   ]
  },
  {
   "cell_type": "markdown",
   "metadata": {},
   "source": [
    "## Training"
   ]
  },
  {
   "cell_type": "code",
   "execution_count": 5,
   "metadata": {},
   "outputs": [
    {
     "name": "stdout",
     "output_type": "stream",
     "text": [
      "Female for English done\n",
      "Male for English done\n",
      "English Done\n",
      "Female for German done\n"
     ]
    }
   ],
   "source": [
    "true_values=[]\n",
    "count=0\n",
    "count_male=0\n",
    "count_female=0\n",
    "features=[]\n",
    "flag=0\n",
    "for folder in os.listdir(train_path):\n",
    "    folder_path=os.path.join(train_path,folder)\n",
    "    for file in os.listdir(folder_path):\n",
    "        if(count==max_count):\n",
    "            break\n",
    "        if(re.search(\"_f_\",file)):\n",
    "            if(count_female>=max_count/2):\n",
    "                continue\n",
    "            count_female+=1\n",
    "            if(count_female==max_count/2):\n",
    "                print(\"Female for \"+str(folder)+\" done\")\n",
    "\n",
    "        elif(re.search(\"_m_\",file)):\n",
    "            if(count_male>=max_count/2):\n",
    "                continue\n",
    "            count_male+=1\n",
    "            if(count_male==max_count/2):\n",
    "                print(\"Male for \"+str(folder)+\" done\")\n",
    "        \n",
    "        file_path=os.path.join(folder_path,file)\n",
    "        y=smile.process_file(file_path)\n",
    "        file_features=np.asarray(y)\n",
    "        if flag==0:\n",
    "            features=file_features\n",
    "            flag=-1\n",
    "        else:\n",
    "            features=np.concatenate((features,file_features),axis=0)\n",
    "        if(re.match(\"de\",file)):\n",
    "            true_values.append(0)\n",
    "        elif(re.match(\"en\",file)):\n",
    "            true_values.append(1)\n",
    "        elif(re.match(\"es\",file)):\n",
    "            true_values.append(2)\n",
    "        count+=1\n",
    "    \n",
    "    count=0\n",
    "    count_female=0\n",
    "    count_male=0\n",
    "    print(str(folder)+\" Done\")\n",
    "true_values=np.array(true_values)   \n",
    "\n",
    "\n",
    "print(\"Feature Extraction Done\")\n",
    "        \n"
   ]
  },
  {
   "cell_type": "code",
   "execution_count": null,
   "metadata": {},
   "outputs": [],
   "source": [
    "print(features.shape)\n",
    "print(true_values.shape)"
   ]
  },
  {
   "cell_type": "markdown",
   "metadata": {},
   "source": [
    "## Testing"
   ]
  },
  {
   "cell_type": "code",
   "execution_count": null,
   "metadata": {},
   "outputs": [],
   "source": [
    "true_values_test=[]\n",
    "test_features=[]\n",
    "count=0\n",
    "flag=0\n",
    "for folder in os.listdir(test_path):\n",
    "    folder_path=os.path.join(test_path,folder)\n",
    "    for file in os.listdir(folder_path):\n",
    "        file_path=os.path.join(folder_path,file)\n",
    "        y=smile.process_file(file_path)\n",
    "        file_features=np.asarray(y)\n",
    "        if flag==0:\n",
    "            test_features=file_features\n",
    "            flag=-1\n",
    "        else:\n",
    "            test_features=np.concatenate((test_features,file_features),axis=0)\n",
    "        if(re.match(\"de\",file)):\n",
    "            true_values_test.append(0)\n",
    "        elif(re.match(\"en\",file)):\n",
    "            true_values_test.append(1)\n",
    "        elif(re.match(\"es\",file)):\n",
    "            true_values_test.append(2)\n",
    "        count+=1\n",
    "true_values_test=np.array(true_values_test)   \n",
    "\n",
    "print(count)\n",
    "print(\"Feature Extraction Done\")\n",
    "        \n"
   ]
  },
  {
   "cell_type": "code",
   "execution_count": null,
   "metadata": {},
   "outputs": [],
   "source": [
    "res=[24,38,58,60,68,70,76,78] \n",
    " \n",
    "# 24= mfcc sma3 mean\n",
    "# 38= log RelF0-H1-A3_sma3_nz_amean\n",
    "# 58= AlphaRatioV_sma3_nz_amean\n",
    "# 60= hammerberg index_sma3_nz_amean\n",
    "# 68= mfcc1V sma3nz amean\n",
    "# 70= mfcc2V sma3nz amean\n",
    "# 76= alphaRatioUV_sma3_nz_amean\n",
    "# 78= slopeUV0-500 sma3nz amean \n",
    "\n",
    "res.T\n",
    "features=features[:,res]\n",
    "test_features=test_features[:,res]"
   ]
  },
  {
   "cell_type": "code",
   "execution_count": null,
   "metadata": {},
   "outputs": [],
   "source": [
    "from sklearn.pipeline import Pipeline\n",
    "from sklearn.preprocessing import MinMaxScaler,StandardScaler\n"
   ]
  },
  {
   "cell_type": "markdown",
   "metadata": {},
   "source": [
    "# Linear\n"
   ]
  },
  {
   "cell_type": "code",
   "execution_count": null,
   "metadata": {},
   "outputs": [],
   "source": [
    "from sklearn.svm import SVC\n",
    "\n",
    "pipe4 = Pipeline([ ('std', StandardScaler()), ('SVM', SVC(kernel='linear',probability=True))])\n",
    "pipe4.fit(features, true_values)\n",
    "score=accuracy_score(true_values_test, pipe4.predict(test_features))\n",
    "print(score)\n"
   ]
  }
 ],
 "metadata": {
  "kernelspec": {
   "display_name": "Python 3.10.7 64-bit",
   "language": "python",
   "name": "python3"
  },
  "language_info": {
   "codemirror_mode": {
    "name": "ipython",
    "version": 3
   },
   "file_extension": ".py",
   "mimetype": "text/x-python",
   "name": "python",
   "nbconvert_exporter": "python",
   "pygments_lexer": "ipython3",
   "version": "3.10.7"
  },
  "orig_nbformat": 4,
  "vscode": {
   "interpreter": {
    "hash": "107d7b120a5b68773a87d4067e673630b35702e55ebab3138143d08b1c4d7cbc"
   }
  }
 },
 "nbformat": 4,
 "nbformat_minor": 2
}
