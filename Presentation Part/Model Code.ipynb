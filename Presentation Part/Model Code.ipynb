{
 "cells": [
  {
   "cell_type": "code",
   "execution_count": 6,
   "metadata": {},
   "outputs": [],
   "source": [
    "import numpy as np\n",
    "import os\n",
    "import re\n",
    "from sklearn.metrics import accuracy_score\n",
    "import opensmile\n",
    "import matplotlib.pyplot as plt"
   ]
  },
  {
   "cell_type": "code",
   "execution_count": 7,
   "metadata": {},
   "outputs": [],
   "source": [
    "## Variables Defined\n",
    "path=r\"D:\\PRML\"\n",
    "\n",
    "train_path=os.path.join(path,\"train\",\"train\")\n",
    "test_path=os.path.join(path,\"test\",\"test\")"
   ]
  },
  {
   "cell_type": "code",
   "execution_count": 8,
   "metadata": {},
   "outputs": [],
   "source": [
    "smile = opensmile.Smile(\n",
    "    feature_set=opensmile.FeatureSet.eGeMAPSv02,   ## Geneva Minimalistic Acoustic Parameter Set\n",
    "    feature_level=opensmile.FeatureLevel.Functionals,\n",
    ")"
   ]
  },
  {
   "cell_type": "markdown",
   "metadata": {},
   "source": [
    "## For Full Dataset"
   ]
  },
  {
   "cell_type": "code",
   "execution_count": 9,
   "metadata": {},
   "outputs": [],
   "source": [
    "count_male=0\n",
    "count_female=0\n",
    "\n",
    "lang=[]\n",
    "count_male_vect=[]\n",
    "count_female_vect=[]\n",
    "for folder in os.listdir(train_path):\n",
    "    folder_path=os.path.join(train_path,folder)\n",
    "    for file in os.listdir(folder_path):\n",
    "        if(re.search(\"_f_\",file)):\n",
    "            count_female+=1\n",
    "            \n",
    "        elif(re.search(\"_m_\",file)):\n",
    "            count_male+=1\n",
    "    count_male_vect.append(count_male)\n",
    "    count_female_vect.append(count_female)\n",
    "    count_female=0\n",
    "    count_male=0\n",
    "    lang.append(str(folder))"
   ]
  },
  {
   "cell_type": "code",
   "execution_count": 10,
   "metadata": {},
   "outputs": [
    {
     "name": "stdout",
     "output_type": "stream",
     "text": [
      "Female data [3780, 3780, 3780]\n",
      "Male data= [3780, 3780, 3780]\n"
     ]
    },
    {
     "data": {
      "image/png": "[encoded data removed]",
      "text/plain": [
       "<Figure size 432x288 with 1 Axes>"
      ]
     },
     "metadata": {
      "needs_background": "light"
     },
     "output_type": "display_data"
    }
   ],
   "source": [
    "plt.bar(lang,count_male_vect,color='r')\n",
    "plt.bar(lang,count_female_vect,bottom=count_male_vect,color='b')\n",
    "print(\"Female data\",count_female_vect)\n",
    "print(\"Male data=\",count_male_vect)\n",
    "\n",
    "plt.legend([\"male\",\"female\"])\n",
    "plt.xlabel(\"Languages\")\n",
    "plt.ylabel(\"No. of voice samples\")\n",
    "plt.show()"
   ]
  },
  {
   "cell_type": "markdown",
   "metadata": {},
   "source": [
    "## Training"
   ]
  },
  {
   "cell_type": "code",
   "execution_count": 11,
   "metadata": {},
   "outputs": [
    {
     "name": "stderr",
     "output_type": "stream",
     "text": [
      "Exception ignored on calling ctypes callback function: <function OpenSMILE.external_sink_set_callback_ex.<locals>.internal_callback_ex at 0x0000019CF2A01C10>\n",
      "Traceback (most recent call last):\n",
      "  File \"c:\\Users\\Asus\\anaconda3\\lib\\site-packages\\opensmile\\core\\SMILEapi.py\", line 362, in internal_callback_ex\n",
      "    def internal_callback_ex(data, nt, n, meta: POINTER(FrameMetaData), _):\n",
      "KeyboardInterrupt: \n",
      "c:\\Users\\Asus\\anaconda3\\lib\\site-packages\\opensmile\\core\\smile.py:308: UserWarning: Segment too short, filling with NaN.\n",
      "  warnings.warn(\n"
     ]
    }
   ],
   "source": [
    "max_count=3780*2  ## No. of examples to use for training\n",
    "true_values=[]\n",
    "count=0\n",
    "count_male=0\n",
    "count_female=0\n",
    "features=[]\n",
    "flag=0\n",
    "lang=[]\n",
    "count_male_vect=[]\n",
    "count_female_vect=[]\n",
    "for folder in os.listdir(train_path):\n",
    "    folder_path=os.path.join(train_path,folder)\n",
    "    for file in os.listdir(folder_path):\n",
    "        if(count==max_count):\n",
    "            break\n",
    "        if(re.search(\"_f_\",file)):\n",
    "            if(count_female>=max_count/2):\n",
    "                continue\n",
    "            count_female+=1\n",
    "            if(count_female==max_count/2):\n",
    "                print(\"Female for \"+str(folder)+\" done\")\n",
    "\n",
    "        elif(re.search(\"_m_\",file)):\n",
    "            if(count_male>=max_count/2):\n",
    "                continue\n",
    "            count_male+=1\n",
    "            if(count_male==max_count/2):\n",
    "                print(\"Male for \"+str(folder)+\" done\")\n",
    "        \n",
    "        file_path=os.path.join(folder_path,file)\n",
    "        y=smile.process_file(file_path)\n",
    "        file_features=np.asarray(y)\n",
    "        if flag==0:\n",
    "            features=file_features\n",
    "            flag=-1\n",
    "        else:\n",
    "            features=np.concatenate((features,file_features),axis=0)\n",
    "        if(re.match(\"de\",file)):\n",
    "            true_values.append(0)\n",
    "        elif(re.match(\"en\",file)):\n",
    "            true_values.append(1)\n",
    "        elif(re.match(\"es\",file)):\n",
    "            true_values.append(2)\n",
    "        count+=1\n",
    "    \n",
    "    count_male_vect.append(count_male)\n",
    "    count_female_vect.append(count_female)\n",
    "    count=0\n",
    "    count_female=0\n",
    "    count_male=0\n",
    "    lang.append(str(folder))\n",
    "    print(str(folder)+\" Done\")\n",
    "true_values=np.array(true_values)   \n",
    "\n",
    "\n",
    "print(\"Feature Extraction Done\")\n",
    "        \n"
   ]
  },
  {
   "cell_type": "code",
   "execution_count": null,
   "metadata": {},
   "outputs": [],
   "source": [
    "plt.bar(lang,count_male_vect,color='r')\n",
    "plt.bar(lang,count_female_vect,bottom=count_male_vect,color='b')\n",
    "plt.legend([\"male\",\"female\"])\n",
    "plt.xlabel(\"Languages\")\n",
    "plt.ylabel(\"No. of voice samples\")\n",
    "plt.show()"
   ]
  },
  {
   "cell_type": "code",
   "execution_count": null,
   "metadata": {},
   "outputs": [],
   "source": [
    "print(features.shape)\n",
    "print(true_values.shape)"
   ]
  },
  {
   "cell_type": "markdown",
   "metadata": {},
   "source": [
    "## Testing"
   ]
  },
  {
   "cell_type": "code",
   "execution_count": null,
   "metadata": {},
   "outputs": [],
   "source": [
    "true_values_test=[]\n",
    "test_features=[]\n",
    "count=0\n",
    "flag=0\n",
    "lang=[]\n",
    "count_male=0\n",
    "count_female=0\n",
    "count_male_vect=[]\n",
    "count_female_vect=[]\n",
    "for folder in os.listdir(test_path):\n",
    "    folder_path=os.path.join(test_path,folder)\n",
    "    for file in os.listdir(folder_path):\n",
    "        file_path=os.path.join(folder_path,file)\n",
    "\n",
    "        if(re.search(\"_f_\",file)):\n",
    "            count_female+=1\n",
    "        elif(re.search(\"_m_\",file)):\n",
    "            count_male+=1\n",
    "\n",
    "        y=smile.process_file(file_path)\n",
    "        file_features=np.asarray(y)\n",
    "\n",
    "        if flag==0:\n",
    "            test_features=file_features\n",
    "            flag=-1\n",
    "        else:\n",
    "            test_features=np.concatenate((test_features,file_features),axis=0)\n",
    "\n",
    "        if(re.match(\"de\",file)):\n",
    "            true_values_test.append(0)\n",
    "        elif(re.match(\"en\",file)):\n",
    "            true_values_test.append(1)\n",
    "        elif(re.match(\"es\",file)):\n",
    "            true_values_test.append(2)\n",
    "\n",
    "        count+=1\n",
    "        \n",
    "    count_male_vect.append(count_male)\n",
    "    count_female_vect.append(count_female)\n",
    "    count=0\n",
    "    count_female=0\n",
    "    count_male=0\n",
    "    lang.append(str(folder))\n",
    "true_values_test=np.array(true_values_test)   \n",
    "\n",
    "print(count)\n",
    "print(\"Feature Extraction Done\")\n",
    "        \n"
   ]
  },
  {
   "cell_type": "code",
   "execution_count": null,
   "metadata": {},
   "outputs": [],
   "source": [
    "plt.bar(lang,count_male_vect,color='r')\n",
    "plt.bar(lang,count_female_vect,bottom=count_male_vect,color='b')\n",
    "plt.legend([\"male\",\"female\"])\n",
    "plt.xlabel(\"Languages\")\n",
    "plt.ylabel(\"No. of voice samples\")\n",
    "plt.show()"
   ]
  },
  {
   "cell_type": "markdown",
   "metadata": {},
   "source": [
    "## Getting only required Features"
   ]
  },
  {
   "cell_type": "code",
   "execution_count": null,
   "metadata": {},
   "outputs": [],
   "source": [
    "res=np.array([24,38,58,60,68,70,76,78])\n",
    " \n",
    "# 24= mfcc sma3 mean\n",
    "# 38= log RelF0-H1-A3_sma3_nz_amean\n",
    "# 58= AlphaRatioV_sma3_nz_amean\n",
    "# 60= hammerberg index_sma3_nz_amean\n",
    "# 68= mfcc1V sma3nz amean\n",
    "# 70= mfcc2V sma3nz amean\n",
    "# 76= alphaRatioUV_sma3_nz_amean\n",
    "# 78= slopeUV0-500 sma3nz amean \n",
    "\n",
    "res.T\n",
    "features=features[:,res]\n",
    "test_features=test_features[:,res]"
   ]
  },
  {
   "cell_type": "code",
   "execution_count": null,
   "metadata": {},
   "outputs": [],
   "source": [
    "# fig,ax=plt.subplots()\n",
    "# ax = plt.subplot(111, projection='3d')\n",
    "# ax.scatter(features[:,0],features[:,1],c=true_values)\n",
    "# ax.legend([\"1\",\"0\",\"2\"])\n",
    "# fig.show()\n"
   ]
  },
  {
   "cell_type": "code",
   "execution_count": null,
   "metadata": {},
   "outputs": [],
   "source": [
    "from sklearn.pipeline import Pipeline\n",
    "from sklearn.preprocessing import MinMaxScaler,StandardScaler\n"
   ]
  },
  {
   "cell_type": "markdown",
   "metadata": {},
   "source": [
    "# Linear\n"
   ]
  },
  {
   "cell_type": "code",
   "execution_count": null,
   "metadata": {},
   "outputs": [],
   "source": [
    "from sklearn.svm import SVC\n",
    "\n",
    "pipe4 = Pipeline([ ('std', StandardScaler()), ('SVM', SVC(kernel='linear',probability=True))])\n",
    "pipe4.fit(features, true_values)\n",
    "pred_test=pipe4.predict(test_features)\n",
    "pred_train=pipe4.predict(features)\n"
   ]
  },
  {
   "cell_type": "code",
   "execution_count": null,
   "metadata": {},
   "outputs": [],
   "source": [
    "score=accuracy_score(true_values_test, pred_test)\n",
    "print(\"Accuracy  on test data\",score)\n",
    "\n",
    "\n",
    "from sklearn.metrics import confusion_matrix\n",
    "cf=confusion_matrix(true_values_test,pred_test)\n",
    "\n",
    "import seaborn as sb\n",
    "labels=[\"German\",\"English\",\"Spanish\"]\n",
    "sb.heatmap(cf,annot=True,xticklabels=labels,yticklabels=labels)"
   ]
  },
  {
   "cell_type": "code",
   "execution_count": null,
   "metadata": {},
   "outputs": [],
   "source": []
  }
 ],
 "metadata": {
  "kernelspec": {
   "display_name": "Python 3.8.8 ('base')",
   "language": "python",
   "name": "python3"
  },
  "language_info": {
   "codemirror_mode": {
    "name": "ipython",
    "version": 3
   },
   "file_extension": ".py",
   "mimetype": "text/x-python",
   "name": "python",
   "nbconvert_exporter": "python",
   "pygments_lexer": "ipython3",
   "version": "3.8.8"
  },
  "orig_nbformat": 4,
  "vscode": {
   "interpreter": {
    "hash": "52d90d3cc821dd0beedd6e719dbdecc722c226b9d90ed1b663c34e1877f1142e"
   }
  }
 },
 "nbformat": 4,
 "nbformat_minor": 2
}
