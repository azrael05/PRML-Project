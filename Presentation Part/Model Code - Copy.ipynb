{
 "cells": [
  {
   "cell_type": "code",
   "execution_count": 39,
   "metadata": {},
   "outputs": [],
   "source": [
    "import numpy as np\n",
    "import os\n",
    "import re\n",
    "from sklearn.metrics import accuracy_score\n",
    "import opensmile\n",
    "import matplotlib.pyplot as plt"
   ]
  },
  {
   "cell_type": "code",
   "execution_count": 40,
   "metadata": {},
   "outputs": [],
   "source": [
    "## Variables Defined\n",
    "path=r\"D:\\PRML\"\n",
    "\n",
    "train_path=os.path.join(path,\"train\",\"train\")\n",
    "test_path=os.path.join(path,\"test\",\"test\")"
   ]
  },
  {
   "cell_type": "code",
   "execution_count": 41,
   "metadata": {},
   "outputs": [],
   "source": [
    "smile = opensmile.Smile(\n",
    "    feature_set=opensmile.FeatureSet.eGeMAPSv02,   ## Geneva Minimalistic Acoustic Parameter Set\n",
    "    feature_level=opensmile.FeatureLevel.Functionals,\n",
    ")"
   ]
  },
  {
   "cell_type": "markdown",
   "metadata": {},
   "source": [
    "## For Full Dataset"
   ]
  },
  {
   "cell_type": "code",
   "execution_count": 42,
   "metadata": {},
   "outputs": [],
   "source": [
    "count_male=0\n",
    "count_female=0\n",
    "\n",
    "lang=[]\n",
    "count_male_vect=[]\n",
    "count_female_vect=[]\n",
    "for folder in os.listdir(train_path):\n",
    "    folder_path=os.path.join(train_path,folder)\n",
    "    for file in os.listdir(folder_path):\n",
    "        if(re.search(\"_f_\",file)):\n",
    "            count_female+=1\n",
    "            \n",
    "        elif(re.search(\"_m_\",file)):\n",
    "            count_male+=1\n",
    "    count_male_vect.append(count_male)\n",
    "    count_female_vect.append(count_female)\n",
    "    count_female=0\n",
    "    count_male=0\n",
    "    lang.append(str(folder))"
   ]
  },
  {
   "cell_type": "code",
   "execution_count": 43,
   "metadata": {},
   "outputs": [
    {
     "name": "stdout",
     "output_type": "stream",
     "text": [
      "Female data [3780, 3780, 3780]\n",
      "Male data= [3780, 3780, 3780]\n"
     ]
    },
    {
     "data": {
      "image/png": "[encoded data removed]",
      "text/plain": [
       "<Figure size 432x288 with 1 Axes>"
      ]
     },
     "metadata": {
      "needs_background": "light"
     },
     "output_type": "display_data"
    }
   ],
   "source": [
    "plt.bar(lang,count_male_vect,color='r')\n",
    "plt.bar(lang,count_female_vect,bottom=count_male_vect,color='b')\n",
    "print(\"Female data\",count_female_vect)\n",
    "print(\"Male data=\",count_male_vect)\n",
    "\n",
    "plt.legend([\"male\",\"female\"])\n",
    "plt.xlabel(\"Languages\")\n",
    "plt.ylabel(\"No. of voice samples\")\n",
    "plt.show()"
   ]
  },
  {
   "cell_type": "markdown",
   "metadata": {},
   "source": [
    "## Training"
   ]
  },
  {
   "cell_type": "code",
   "execution_count": null,
   "metadata": {},
   "outputs": [],
   "source": [
    "max_count=3780*2  ## No. of examples to use for training\n",
    "true_values_male=[]\n",
    "true_values_female=[]\n",
    "count=0\n",
    "count_male=0\n",
    "count_female=0\n",
    "features_male=[]\n",
    "features_female=[]\n",
    "flag_male=0\n",
    "flag_female=0\n",
    "lang=[]\n",
    "count_male_vect=[]\n",
    "count_female_vect=[]\n",
    "for folder in os.listdir(train_path):\n",
    "    folder_path=os.path.join(train_path,folder)\n",
    "    for file in os.listdir(folder_path):\n",
    "        if(count==max_count):\n",
    "            break\n",
    "        if(re.search(\"_f_\",file)):\n",
    "            if(count_female>=max_count/2):\n",
    "                continue\n",
    "            count_female+=1\n",
    "            file_path=os.path.join(folder_path,file)\n",
    "            y=smile.process_file(file_path)\n",
    "            file_features=np.asarray(y)\n",
    "            if flag_female==0:\n",
    "                features_female=file_features\n",
    "                flag_female=-1\n",
    "            else:\n",
    "                features_female=np.concatenate((features_female,file_features),axis=0)\n",
    "            if(re.match(\"de\",file)):\n",
    "                true_values_female.append(0)\n",
    "            elif(re.match(\"en\",file)):\n",
    "                true_values_female.append(1)\n",
    "            elif(re.match(\"es\",file)):\n",
    "                true_values_female.append(2)\n",
    "            count+=1\n",
    "            if(count_female==max_count/2):\n",
    "                print(\"Female for \"+str(folder)+\" done\")\n",
    "\n",
    "        elif(re.search(\"_m_\",file)):\n",
    "            if(count_male>=max_count/2):\n",
    "                continue\n",
    "            count_male+=1\n",
    "            file_path=os.path.join(folder_path,file)\n",
    "            y=smile.process_file(file_path)\n",
    "            file_features=np.asarray(y)\n",
    "            if flag_male==0:\n",
    "                features_male=file_features\n",
    "                flag_male=-1\n",
    "            else:\n",
    "                features_male=np.concatenate((features_male,file_features),axis=0)\n",
    "            if(re.match(\"de\",file)):\n",
    "                true_values_male.append(0)\n",
    "            elif(re.match(\"en\",file)):\n",
    "                true_values_male.append(1)\n",
    "            elif(re.match(\"es\",file)):\n",
    "                true_values_male.append(2)\n",
    "            count+=1\n",
    "            if(count_male==max_count/2):\n",
    "                print(\"Male for \"+str(folder)+\" done\")\n",
    "        \n",
    "    \n",
    "    count_male_vect.append(count_male)\n",
    "    count_female_vect.append(count_female)\n",
    "    count=0\n",
    "    count_female=0\n",
    "    count_male=0\n",
    "    lang.append(str(folder))\n",
    "    print(str(folder)+\" Done\")\n",
    "true_values_male=np.array(true_values_male)   \n",
    "true_values_female=np.array(true_values_female)\n",
    "\n",
    "\n",
    "print(\"Feature Extraction Done\")\n",
    "        \n"
   ]
  },
  {
   "cell_type": "code",
   "execution_count": null,
   "metadata": {},
   "outputs": [
    {
     "data": {
      "image/png": "[encoded data removed]",
      "text/plain": [
       "<Figure size 432x288 with 1 Axes>"
      ]
     },
     "metadata": {
      "needs_background": "light"
     },
     "output_type": "display_data"
    }
   ],
   "source": [
    "plt.bar(lang,count_male_vect,color='r')\n",
    "plt.bar(lang,count_female_vect,bottom=count_male_vect,color='b')\n",
    "plt.legend([\"male\",\"female\"])\n",
    "plt.xlabel(\"Languages\")\n",
    "plt.ylabel(\"No. of voice samples\")\n",
    "plt.show()"
   ]
  },
  {
   "cell_type": "markdown",
   "metadata": {},
   "source": [
    "## Testing"
   ]
  },
  {
   "cell_type": "code",
   "execution_count": null,
   "metadata": {},
   "outputs": [
    {
     "name": "stdout",
     "output_type": "stream",
     "text": [
      "Feature Extraction Done\n"
     ]
    }
   ],
   "source": [
    "true_values_test_male=[]\n",
    "true_values_test_female=[]\n",
    "test_features_male=[]\n",
    "test_features_female=[]\n",
    "count=0\n",
    "flag_female=0\n",
    "flag_male=0\n",
    "lang=[]\n",
    "count_male=0\n",
    "count_female=0\n",
    "count_male_vect=[]\n",
    "count_female_vect=[]\n",
    "for folder in os.listdir(test_path):\n",
    "    folder_path=os.path.join(test_path,folder)\n",
    "    for file in os.listdir(folder_path):\n",
    "        file_path=os.path.join(folder_path,file)\n",
    "\n",
    "        if(re.search(\"_f_\",file)):\n",
    "            count_female+=1\n",
    "            y=smile.process_file(file_path)\n",
    "            file_features=np.asarray(y)\n",
    "\n",
    "            if flag_female==0:\n",
    "                test_features_female=file_features\n",
    "                flag_female=-1\n",
    "            else:\n",
    "                test_features_female=np.concatenate((test_features_female,file_features),axis=0)\n",
    "\n",
    "            if(re.match(\"de\",file)):\n",
    "                true_values_test_female.append(0)\n",
    "            elif(re.match(\"en\",file)):\n",
    "                true_values_test_female.append(1)\n",
    "            elif(re.match(\"es\",file)):\n",
    "                true_values_test_female.append(2)\n",
    "\n",
    "\n",
    "        elif(re.search(\"_m_\",file)):\n",
    "            count_male+=1\n",
    "            y=smile.process_file(file_path)\n",
    "            file_features=np.asarray(y)\n",
    "\n",
    "            if flag_male==0:\n",
    "                test_features_male=file_features\n",
    "                flag_male=-1\n",
    "            else:\n",
    "                test_features_male=np.concatenate((test_features_male,file_features),axis=0)\n",
    "\n",
    "            if(re.match(\"de\",file)):\n",
    "                true_values_test_male.append(0)\n",
    "            elif(re.match(\"en\",file)):\n",
    "                true_values_test_male.append(1)\n",
    "            elif(re.match(\"es\",file)):\n",
    "                true_values_test_male.append(2)\n",
    "\n",
    "        \n",
    "        \n",
    "    count_male_vect.append(count_male)\n",
    "    count_female_vect.append(count_female)\n",
    "    count_female=0\n",
    "    count_male=0\n",
    "    lang.append(str(folder))\n",
    "true_values_test_male=np.array(true_values_test_male)   \n",
    "true_values_test_female=np.array(true_values_test_female)   \n",
    "\n",
    "print(\"Feature Extraction Done\")\n",
    "        \n"
   ]
  },
  {
   "cell_type": "code",
   "execution_count": null,
   "metadata": {},
   "outputs": [
    {
     "data": {
      "image/png": "[encoded data removed]",
      "text/plain": [
       "<Figure size 432x288 with 1 Axes>"
      ]
     },
     "metadata": {
      "needs_background": "light"
     },
     "output_type": "display_data"
    }
   ],
   "source": [
    "plt.bar(lang,count_male_vect,color='r')\n",
    "plt.bar(lang,count_female_vect,bottom=count_male_vect,color='b')\n",
    "plt.legend([\"male\",\"female\"])\n",
    "plt.xlabel(\"Languages\")\n",
    "plt.ylabel(\"No. of voice samples\")\n",
    "plt.show()"
   ]
  },
  {
   "cell_type": "markdown",
   "metadata": {},
   "source": [
    "## Getting only required Features"
   ]
  },
  {
   "cell_type": "code",
   "execution_count": null,
   "metadata": {},
   "outputs": [],
   "source": [
    "res=np.array([24,38,58,60,68,70,76,78])\n",
    " \n",
    "# 24= mfcc sma3 mean\n",
    "# 38= log RelF0-H1-A3_sma3_nz_amean\n",
    "# 58= AlphaRatioV_sma3_nz_amean\n",
    "# 60= hammerberg index_sma3_nz_amean\n",
    "# 68= mfcc1V sma3nz amean\n",
    "# 70= mfcc2V sma3nz amean\n",
    "# 76= alphaRatioUV_sma3_nz_amean\n",
    "# 78= slopeUV0-500 sma3nz amean \n",
    "\n",
    "res.T\n",
    "features_female=features_female[:,res]\n",
    "features_male=features_male[:,res]\n",
    "test_features_female=test_features_female[:,res]\n",
    "test_features_male=test_features_male[:,res]"
   ]
  },
  {
   "cell_type": "code",
   "execution_count": null,
   "metadata": {},
   "outputs": [],
   "source": [
    "# fig,ax=plt.subplots()\n",
    "# ax = plt.subplot(111, projection='3d')\n",
    "# ax.scatter(features[:,0],features[:,1],c=true_values)\n",
    "# ax.legend([\"1\",\"0\",\"2\"])\n",
    "# fig.show()\n"
   ]
  },
  {
   "cell_type": "code",
   "execution_count": null,
   "metadata": {},
   "outputs": [],
   "source": [
    "from sklearn.pipeline import Pipeline\n",
    "from sklearn.preprocessing import MinMaxScaler,StandardScaler\n"
   ]
  },
  {
   "cell_type": "markdown",
   "metadata": {},
   "source": [
    "# SVM-Linear (Male)\n"
   ]
  },
  {
   "cell_type": "code",
   "execution_count": null,
   "metadata": {},
   "outputs": [],
   "source": [
    "from sklearn.svm import SVC\n",
    "\n",
    "pipe_male = Pipeline([ ('std', StandardScaler()), ('SVM', SVC(kernel='linear',probability=True))])\n",
    "pipe_male.fit(features_male, true_values_male)\n",
    "pred_test_male=np.array(pipe_male.predict(test_features_male))\n"
   ]
  },
  {
   "cell_type": "code",
   "execution_count": null,
   "metadata": {},
   "outputs": [
    {
     "name": "stdout",
     "output_type": "stream",
     "text": [
      "Accuracy  on test data 0.8592592592592593\n"
     ]
    },
    {
     "data": {
      "text/plain": [
       "<AxesSubplot:>"
      ]
     },
     "execution_count": 19,
     "metadata": {},
     "output_type": "execute_result"
    },
    {
     "data": {
      "image/png": "[encoded data removed]",
      "text/plain": [
       "<Figure size 432x288 with 2 Axes>"
      ]
     },
     "metadata": {
      "needs_background": "light"
     },
     "output_type": "display_data"
    }
   ],
   "source": [
    "score=accuracy_score(true_values_test_male, pred_test_male)\n",
    "print(\"Accuracy  on test data\",score)\n",
    "\n",
    "\n",
    "from sklearn.metrics import confusion_matrix\n",
    "cf=confusion_matrix(true_values_test_male,pred_test_male)\n",
    "\n",
    "import seaborn as sb\n",
    "labels=[\"German\",\"English\",\"Spanish\"]\n",
    "sb.heatmap(cf,annot=True,xticklabels=labels,yticklabels=labels)"
   ]
  },
  {
   "cell_type": "markdown",
   "metadata": {},
   "source": [
    "## SVM- Linear Female"
   ]
  },
  {
   "cell_type": "code",
   "execution_count": null,
   "metadata": {},
   "outputs": [],
   "source": [
    "from sklearn.svm import SVC\n",
    "\n",
    "pipe_female = Pipeline([ ('std', StandardScaler()), ('SVM', SVC(kernel='linear',probability=True))])\n",
    "pipe_female.fit(features_female, true_values_female)\n",
    "pred_test_female=np.array(pipe_female.predict(test_features_female))\n"
   ]
  },
  {
   "cell_type": "code",
   "execution_count": null,
   "metadata": {},
   "outputs": [
    {
     "name": "stdout",
     "output_type": "stream",
     "text": [
      "Accuracy  on test data 0.4962962962962963\n"
     ]
    },
    {
     "data": {
      "text/plain": [
       "<AxesSubplot:>"
      ]
     },
     "execution_count": 21,
     "metadata": {},
     "output_type": "execute_result"
    },
    {
     "data": {
      "image/png": "[encoded data removed]",
      "text/plain": [
       "<Figure size 432x288 with 2 Axes>"
      ]
     },
     "metadata": {
      "needs_background": "light"
     },
     "output_type": "display_data"
    }
   ],
   "source": [
    "score=accuracy_score(true_values_test_female, pred_test_female)\n",
    "print(\"Accuracy  on test data\",score)\n",
    "\n",
    "\n",
    "from sklearn.metrics import confusion_matrix\n",
    "cf=confusion_matrix(true_values_test_female,pred_test_female)\n",
    "\n",
    "import seaborn as sb\n",
    "labels=[\"German\",\"English\",\"Spanish\"]\n",
    "sb.heatmap(cf,annot=True,xticklabels=labels,yticklabels=labels)"
   ]
  },
  {
   "cell_type": "markdown",
   "metadata": {},
   "source": [
    "## Combined"
   ]
  },
  {
   "cell_type": "code",
   "execution_count": null,
   "metadata": {},
   "outputs": [],
   "source": [
    "x_train=np.r_[features_female,features_male]\n",
    "y_train=np.r_[true_values_female,true_values_male]\n",
    "x_test=np.r_[test_features_female,test_features_male]\n",
    "y_test=np.r_[true_values_test_female,true_values_test_male]\n",
    "pipe_combined = Pipeline([ ('std', StandardScaler()), ('SVM', SVC(kernel='linear',probability=True))])\n",
    "pipe_combined.fit(x_train, y_train)\n",
    "pred_test_combined=pipe_combined.predict(x_test)\n",
    "\n"
   ]
  },
  {
   "cell_type": "code",
   "execution_count": null,
   "metadata": {},
   "outputs": [
    {
     "name": "stdout",
     "output_type": "stream",
     "text": [
      "Accuracy  on test data 0.7666666666666667\n"
     ]
    },
    {
     "data": {
      "text/plain": [
       "<AxesSubplot:>"
      ]
     },
     "execution_count": 38,
     "metadata": {},
     "output_type": "execute_result"
    },
    {
     "data": {
      "image/png": "[encoded data removed]",
      "text/plain": [
       "<Figure size 432x288 with 2 Axes>"
      ]
     },
     "metadata": {
      "needs_background": "light"
     },
     "output_type": "display_data"
    }
   ],
   "source": [
    "score=accuracy_score(y_test, pred_test_combined)\n",
    "print(\"Accuracy  on test data\",score)\n",
    "\n",
    "\n",
    "from sklearn.metrics import confusion_matrix\n",
    "cf=confusion_matrix(y_test,pred_test_combined)\n",
    "\n",
    "import seaborn as sb\n",
    "labels=[\"German\",\"English\",\"Spanish\"]\n",
    "sb.heatmap(cf,annot=True,xticklabels=labels,yticklabels=labels)"
   ]
  },
  {
   "cell_type": "code",
   "execution_count": null,
   "metadata": {},
   "outputs": [],
   "source": []
  }
 ],
 "metadata": {
  "kernelspec": {
   "display_name": "Python 3.8.8 ('base')",
   "language": "python",
   "name": "python3"
  },
  "language_info": {
   "codemirror_mode": {
    "name": "ipython",
    "version": 3
   },
   "file_extension": ".py",
   "mimetype": "text/x-python",
   "name": "python",
   "nbconvert_exporter": "python",
   "pygments_lexer": "ipython3",
   "version": "3.8.8"
  },
  "orig_nbformat": 4,
  "vscode": {
   "interpreter": {
    "hash": "52d90d3cc821dd0beedd6e719dbdecc722c226b9d90ed1b663c34e1877f1142e"
   }
  }
 },
 "nbformat": 4,
 "nbformat_minor": 2
}
